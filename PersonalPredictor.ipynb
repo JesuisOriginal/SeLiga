{
 "cells": [
  {
   "cell_type": "code",
   "execution_count": 7,
   "metadata": {},
   "outputs": [],
   "source": [
    "import pandas as pd\n",
    "import numpy as np\n",
    "import random\n",
    "from random import randrange"
   ]
  },
  {
   "cell_type": "code",
   "execution_count": 11,
   "metadata": {},
   "outputs": [],
   "source": [
    "id_list = [x for x in range(1, 5000)]\n",
    "opinions = ['Read', 'Skipped']\n",
    "tags = ['tech', 'games', 'dc', 'marvel', 'movies', 'series', 'netflix', 'crypto', 'finances']\n",
    "words = [randrange(100, 1000, 50) for x in range(0, len(id_list)+1)]\n",
    "published_in = [randrange(0, (365 * 2)) for x in range(0, len(words)+1)]\n",
    "fonts = ['Twitter', 'Instagram', 'Youtube', 'G1', 'BBC', 'google', 'others']"
   ]
  },
  {
   "cell_type": "code",
   "execution_count": 115,
   "metadata": {},
   "outputs": [],
   "source": [
    "class generator:    \n",
    "    _opinions = ['Read', 'Skipped']\n",
    "    \n",
    "    _tags = ['Tech', 'Games', 'DC', 'Marvel', 'Movies', 'Series', 'Netflix', 'Crypto', 'Finances']\n",
    "    \n",
    "    _words = [randrange(100, 1000, 50) for x in range(0, len(id_list)+1)]\n",
    "    \n",
    "    _published_in = [randrange(0, (365 * 2)) for x in range(0, len(words)+1)]\n",
    "    \n",
    "    _fonts = ['Twitter', 'Instagram', 'Youtube', 'G1', 'BBC', 'Google', 'Others']\n",
    "    \n",
    "    def gen_line(self, tag='', font='', max_publication_days=-1, min_publication_days=-1, opinion='', word_max=-1, word_min=-1):\n",
    "        if (tag == ''):\n",
    "            tag = self._tags[randrange(0, len(self._tags), 1)]\n",
    "            \n",
    "        if (font == ''):\n",
    "            font = self._fonts[randrange(0, len(self._fonts), 1)]\n",
    "            \n",
    "        if (opinion == ''):\n",
    "            opinion = self._opinions[randrange(0, 2)]\n",
    "            \n",
    "        publication = 0\n",
    "        if (max_publication_days == -1):\n",
    "            if (min_publication_days == -1):\n",
    "                publication = self._published_in[randrange(0, len(self._published_in))]\n",
    "            else:\n",
    "                publication =  self._published_in[randrange(min_publication_days, len(self._published_in))]\n",
    "        else:\n",
    "            if (min_publication_days == -1):\n",
    "                publication = randrange(0, max_publication_days)\n",
    "            else:\n",
    "                publication = randrange(min_publication_days, max_publication_days)\n",
    "        \n",
    "        word = 0\n",
    "        if (word_min == -1):\n",
    "            if (word_max == -1):\n",
    "                word = self._words[randrange(0, len(self._words))]\n",
    "            else:\n",
    "                word = self.words[randrange(0, word_max)]\n",
    "        else:\n",
    "            if (word_max == -1):\n",
    "                 word = randrange(word_min, len(self._words), 50)\n",
    "            else:\n",
    "                 word = randrange(word_min, word_max, 50)\n",
    "            \n",
    "        line = {'tag':[tag], 'days_since_published':[publication], 'font':[font], 'word_count':[word], 'opinion':opinion}\n",
    "        df = pd.DataFrame(data=line)\n",
    "        return df\n",
    "    def gen_tendency_lines(self, tag='', font='', word_count_min = -1, word_count_max = -1, max_publication_date=-1, min_publication_date=-1, n=600):\n",
    "        op = 'Read'\n",
    "        tag = self._tags[randrange(0, len(self._tags))]\n",
    "        line_list = []\n",
    "        \n",
    "        # generates biased line\n",
    "        for i in range(0, n):\n",
    "            line = self.gen_line(tag, font, max_publication_date, min_publication_date, op, word_count_max, word_count_min)            \n",
    "            line_list.append(line)\n",
    "        \n",
    "        # generetades unbiased lines\n",
    "        for i in range(0, n*randrange(4, 9)):\n",
    "            line = self.gen_line()\n",
    "            line_list.append(line)\n",
    "        \n",
    "        ids = [x for x in range(1, len(line_list)+1)]\n",
    "        id_df = pd.DataFrame(data={'id':ids})\n",
    "        result = pd.concat(line_list, ignore_index=True)\n",
    "        result = pd.concat([id_df, result], axis=1)\n",
    "        result=result.set_index('id')\n",
    "        return result"
   ]
  },
  {
   "cell_type": "code",
   "execution_count": 116,
   "metadata": {},
   "outputs": [],
   "source": [
    "my_gen = generator()"
   ]
  },
  {
   "cell_type": "code",
   "execution_count": 117,
   "metadata": {},
   "outputs": [
    {
     "data": {
      "text/html": [
       "<div>\n",
       "<style scoped>\n",
       "    .dataframe tbody tr th:only-of-type {\n",
       "        vertical-align: middle;\n",
       "    }\n",
       "\n",
       "    .dataframe tbody tr th {\n",
       "        vertical-align: top;\n",
       "    }\n",
       "\n",
       "    .dataframe thead th {\n",
       "        text-align: right;\n",
       "    }\n",
       "</style>\n",
       "<table border=\"1\" class=\"dataframe\">\n",
       "  <thead>\n",
       "    <tr style=\"text-align: right;\">\n",
       "      <th></th>\n",
       "      <th>tag</th>\n",
       "      <th>days_since_published</th>\n",
       "      <th>font</th>\n",
       "      <th>word_count</th>\n",
       "      <th>opinion</th>\n",
       "    </tr>\n",
       "  </thead>\n",
       "  <tbody>\n",
       "    <tr>\n",
       "      <th>0</th>\n",
       "      <td>Tech</td>\n",
       "      <td>32</td>\n",
       "      <td>Youtube</td>\n",
       "      <td>150</td>\n",
       "      <td>Read</td>\n",
       "    </tr>\n",
       "  </tbody>\n",
       "</table>\n",
       "</div>"
      ],
      "text/plain": [
       "    tag  days_since_published     font  word_count opinion\n",
       "0  Tech                    32  Youtube         150    Read"
      ]
     },
     "execution_count": 117,
     "metadata": {},
     "output_type": "execute_result"
    }
   ],
   "source": [
    "m_line = my_gen.gen_line(tag='Tech', max_publication_days=150, min_publication_days=0,font='Youtube',word_max=200, word_min=150,opinion='Read')\n",
    "m_line"
   ]
  },
  {
   "cell_type": "code",
   "execution_count": 118,
   "metadata": {},
   "outputs": [
    {
     "data": {
      "text/html": [
       "<div>\n",
       "<style scoped>\n",
       "    .dataframe tbody tr th:only-of-type {\n",
       "        vertical-align: middle;\n",
       "    }\n",
       "\n",
       "    .dataframe tbody tr th {\n",
       "        vertical-align: top;\n",
       "    }\n",
       "\n",
       "    .dataframe thead th {\n",
       "        text-align: right;\n",
       "    }\n",
       "</style>\n",
       "<table border=\"1\" class=\"dataframe\">\n",
       "  <thead>\n",
       "    <tr style=\"text-align: right;\">\n",
       "      <th></th>\n",
       "      <th>tag</th>\n",
       "      <th>days_since_published</th>\n",
       "      <th>font</th>\n",
       "      <th>word_count</th>\n",
       "      <th>opinion</th>\n",
       "    </tr>\n",
       "  </thead>\n",
       "  <tbody>\n",
       "    <tr>\n",
       "      <th>0</th>\n",
       "      <td>Movies</td>\n",
       "      <td>497</td>\n",
       "      <td>Google</td>\n",
       "      <td>150</td>\n",
       "      <td>Skipped</td>\n",
       "    </tr>\n",
       "  </tbody>\n",
       "</table>\n",
       "</div>"
      ],
      "text/plain": [
       "      tag  days_since_published    font  word_count  opinion\n",
       "0  Movies                   497  Google         150  Skipped"
      ]
     },
     "execution_count": 118,
     "metadata": {},
     "output_type": "execute_result"
    }
   ],
   "source": [
    "my_line = my_gen.gen_line()\n",
    "my_line"
   ]
  },
  {
   "cell_type": "code",
   "execution_count": 119,
   "metadata": {},
   "outputs": [
    {
     "data": {
      "text/plain": [
       "[    tag  days_since_published     font  word_count opinion\n",
       " 0  Tech                    32  Youtube         150    Read,\n",
       "       tag  days_since_published    font  word_count  opinion\n",
       " 0  Movies                   497  Google         150  Skipped]"
      ]
     },
     "execution_count": 119,
     "metadata": {},
     "output_type": "execute_result"
    }
   ],
   "source": [
    "df_list = [m_line, my_line]\n",
    "df_list"
   ]
  },
  {
   "cell_type": "code",
   "execution_count": 120,
   "metadata": {},
   "outputs": [],
   "source": [
    "d = m_line\n",
    "for frame in df_list:\n",
    "    d"
   ]
  },
  {
   "cell_type": "code",
   "execution_count": 121,
   "metadata": {
    "scrolled": false
   },
   "outputs": [
    {
     "data": {
      "text/html": [
       "<div>\n",
       "<style scoped>\n",
       "    .dataframe tbody tr th:only-of-type {\n",
       "        vertical-align: middle;\n",
       "    }\n",
       "\n",
       "    .dataframe tbody tr th {\n",
       "        vertical-align: top;\n",
       "    }\n",
       "\n",
       "    .dataframe thead th {\n",
       "        text-align: right;\n",
       "    }\n",
       "</style>\n",
       "<table border=\"1\" class=\"dataframe\">\n",
       "  <thead>\n",
       "    <tr style=\"text-align: right;\">\n",
       "      <th></th>\n",
       "      <th>tag</th>\n",
       "      <th>days_since_published</th>\n",
       "      <th>font</th>\n",
       "      <th>word_count</th>\n",
       "      <th>opinion</th>\n",
       "    </tr>\n",
       "    <tr>\n",
       "      <th>id</th>\n",
       "      <th></th>\n",
       "      <th></th>\n",
       "      <th></th>\n",
       "      <th></th>\n",
       "      <th></th>\n",
       "    </tr>\n",
       "  </thead>\n",
       "  <tbody>\n",
       "    <tr>\n",
       "      <th>1</th>\n",
       "      <td>Marvel</td>\n",
       "      <td>93</td>\n",
       "      <td>G1</td>\n",
       "      <td>200</td>\n",
       "      <td>Read</td>\n",
       "    </tr>\n",
       "    <tr>\n",
       "      <th>2</th>\n",
       "      <td>Marvel</td>\n",
       "      <td>382</td>\n",
       "      <td>Instagram</td>\n",
       "      <td>700</td>\n",
       "      <td>Read</td>\n",
       "    </tr>\n",
       "    <tr>\n",
       "      <th>3</th>\n",
       "      <td>Marvel</td>\n",
       "      <td>101</td>\n",
       "      <td>Twitter</td>\n",
       "      <td>400</td>\n",
       "      <td>Read</td>\n",
       "    </tr>\n",
       "    <tr>\n",
       "      <th>4</th>\n",
       "      <td>Marvel</td>\n",
       "      <td>612</td>\n",
       "      <td>Others</td>\n",
       "      <td>850</td>\n",
       "      <td>Read</td>\n",
       "    </tr>\n",
       "    <tr>\n",
       "      <th>5</th>\n",
       "      <td>Marvel</td>\n",
       "      <td>146</td>\n",
       "      <td>Twitter</td>\n",
       "      <td>300</td>\n",
       "      <td>Read</td>\n",
       "    </tr>\n",
       "    <tr>\n",
       "      <th>...</th>\n",
       "      <td>...</td>\n",
       "      <td>...</td>\n",
       "      <td>...</td>\n",
       "      <td>...</td>\n",
       "      <td>...</td>\n",
       "    </tr>\n",
       "    <tr>\n",
       "      <th>3596</th>\n",
       "      <td>Series</td>\n",
       "      <td>124</td>\n",
       "      <td>G1</td>\n",
       "      <td>450</td>\n",
       "      <td>Skipped</td>\n",
       "    </tr>\n",
       "    <tr>\n",
       "      <th>3597</th>\n",
       "      <td>Movies</td>\n",
       "      <td>290</td>\n",
       "      <td>Google</td>\n",
       "      <td>950</td>\n",
       "      <td>Skipped</td>\n",
       "    </tr>\n",
       "    <tr>\n",
       "      <th>3598</th>\n",
       "      <td>Finances</td>\n",
       "      <td>350</td>\n",
       "      <td>BBC</td>\n",
       "      <td>200</td>\n",
       "      <td>Skipped</td>\n",
       "    </tr>\n",
       "    <tr>\n",
       "      <th>3599</th>\n",
       "      <td>Series</td>\n",
       "      <td>367</td>\n",
       "      <td>Twitter</td>\n",
       "      <td>650</td>\n",
       "      <td>Read</td>\n",
       "    </tr>\n",
       "    <tr>\n",
       "      <th>3600</th>\n",
       "      <td>Netflix</td>\n",
       "      <td>625</td>\n",
       "      <td>Youtube</td>\n",
       "      <td>150</td>\n",
       "      <td>Read</td>\n",
       "    </tr>\n",
       "  </tbody>\n",
       "</table>\n",
       "<p>3600 rows × 5 columns</p>\n",
       "</div>"
      ],
      "text/plain": [
       "           tag  days_since_published       font  word_count  opinion\n",
       "id                                                                  \n",
       "1       Marvel                    93         G1         200     Read\n",
       "2       Marvel                   382  Instagram         700     Read\n",
       "3       Marvel                   101    Twitter         400     Read\n",
       "4       Marvel                   612     Others         850     Read\n",
       "5       Marvel                   146    Twitter         300     Read\n",
       "...        ...                   ...        ...         ...      ...\n",
       "3596    Series                   124         G1         450  Skipped\n",
       "3597    Movies                   290     Google         950  Skipped\n",
       "3598  Finances                   350        BBC         200  Skipped\n",
       "3599    Series                   367    Twitter         650     Read\n",
       "3600   Netflix                   625    Youtube         150     Read\n",
       "\n",
       "[3600 rows x 5 columns]"
      ]
     },
     "execution_count": 121,
     "metadata": {},
     "output_type": "execute_result"
    }
   ],
   "source": [
    "df = my_gen.gen_tendency_lines(tag='Tech')\n",
    "df"
   ]
  },
  {
   "cell_type": "code",
   "execution_count": 122,
   "metadata": {},
   "outputs": [],
   "source": [
    "df.to_csv('saitama.csv')"
   ]
  },
  {
   "cell_type": "code",
   "execution_count": null,
   "metadata": {},
   "outputs": [],
   "source": []
  },
  {
   "cell_type": "code",
   "execution_count": null,
   "metadata": {},
   "outputs": [],
   "source": []
  }
 ],
 "metadata": {
  "kernelspec": {
   "display_name": "Python 3",
   "language": "python",
   "name": "python3"
  },
  "language_info": {
   "codemirror_mode": {
    "name": "ipython",
    "version": 3
   },
   "file_extension": ".py",
   "mimetype": "text/x-python",
   "name": "python",
   "nbconvert_exporter": "python",
   "pygments_lexer": "ipython3",
   "version": "3.8.5"
  }
 },
 "nbformat": 4,
 "nbformat_minor": 4
}
