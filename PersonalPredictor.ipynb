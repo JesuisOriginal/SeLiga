{
 "cells": [
  {
   "cell_type": "code",
   "execution_count": 7,
   "metadata": {},
   "outputs": [],
   "source": [
    "import pandas as pd\n",
    "import numpy as np\n",
    "import random\n",
    "from random import randrange"
   ]
  },
  {
   "cell_type": "code",
   "execution_count": 11,
   "metadata": {},
   "outputs": [],
   "source": [
    "id_list = [x for x in range(1, 5000)]\n",
    "opinions = ['Read', 'Skipped']\n",
    "tags = ['tech', 'games', 'dc', 'marvel', 'movies', 'series', 'netflix', 'crypto', 'finances']\n",
    "words = [randrange(100, 1000, 50) for x in range(0, len(id_list)+1)]\n",
    "published_in = [randrange(0, (365 * 2)) for x in range(0, len(words)+1)]\n",
    "fonts = ['Twitter', 'Instagram', 'Youtube', 'G1', 'BBC', 'google', 'others']"
   ]
  },
  {
   "cell_type": "code",
   "execution_count": 89,
   "metadata": {},
   "outputs": [],
   "source": [
    "class generator:    \n",
    "    _opinions = ['Read', 'Skipped']\n",
    "    \n",
    "    _tags = ['Tech', 'Games', 'DC', 'Marvel', 'Movies', 'Series', 'Netflix', 'Crypto', 'Finances']\n",
    "    \n",
    "    _words = [randrange(100, 1000, 50) for x in range(0, len(id_list)+1)]\n",
    "    \n",
    "    _published_in = [randrange(0, (365 * 2)) for x in range(0, len(words)+1)]\n",
    "    \n",
    "    _fonts = ['Twitter', 'Instagram', 'Youtube', 'G1', 'BBC', 'Google', 'Others']\n",
    "    \n",
    "    def gen_line(self, tag='', font='', max_publication_days=-1, min_publication_days=-1, opinion='', word_max=-1, word_min=-1):\n",
    "        if (tag == ''):\n",
    "            tag = self._tags[randrange(0, len(self._tags), 1)]\n",
    "            \n",
    "        if (font == ''):\n",
    "            font = self._fonts[randrange(0, len(self._fonts), 1)]\n",
    "            \n",
    "        if (opinion == ''):\n",
    "            opinion = self._opinions[randrange(0, 2)]\n",
    "            \n",
    "        publication = 0\n",
    "        if (max_publication_days == -1):\n",
    "            if (min_publication_days == -1):\n",
    "                publication = self._published_in[randrange(0, len(self._published_in))]\n",
    "            else:\n",
    "                publication =  self._published_in[randrange(min_publication_days, len(self._published_in))]\n",
    "        else:\n",
    "            if (min_publication_days == -1):\n",
    "                publication = randrange(0, max_publication_days)\n",
    "            else:\n",
    "                publication = randrange(min_publication_days, max_publication_days)\n",
    "        \n",
    "        word = 0\n",
    "        if (word_min == -1):\n",
    "            if (word_max == -1):\n",
    "                word = self._words[randrange(0, len(self._words))]\n",
    "            else:\n",
    "                word = self.words[randrange(0, word_max)]\n",
    "        else:\n",
    "            if (word_max == -1):\n",
    "                 word = randrange(word_min, len(self._words), 50)\n",
    "            else:\n",
    "                 word = randrange(word_min, word_max, 50)\n",
    "            \n",
    "        line = {'tag':[tag], 'days_since_published':[publication], 'font':[font], 'word_count':[word]}\n",
    "        df = pd.DataFrame(data=line)\n",
    "        return df\n",
    "    def gen_tendency_lines(self, tag='', font='', word_count_min = -1, word_count_max = -1, max_publication_date=-1, min_publication_date=-1, n=600):\n",
    "        op = 'Read'\n",
    "        tag = self._tags[randrange(0, len(self._tags))]\n",
    "        line_list = []\n",
    "        \n",
    "        # generates biased line\n",
    "        for i in range(0, n):\n",
    "            line = self.gen_line(tag, font, max_publication_date, min_publication_date, op, word_count_max, word_count_min)            \n",
    "            line_list.append(line)\n",
    "        \n",
    "        # generetades unbiased lines\n",
    "        for i in range(0, n*randrange(4, 9)):\n",
    "            line = self.gen_line()\n",
    "            line_list.append(line)\n",
    "        \n",
    "        ids = [x for x in range(1, len(line_list)+1)]\n",
    "        id_df = pd.DataFrame(data={'id':ids})\n",
    "        result = pd.concat(line_list, ignore_index=True)\n",
    "        result = pd.concat([id_df, result], axis=1)\n",
    "        \n",
    "        return result"
   ]
  },
  {
   "cell_type": "code",
   "execution_count": 90,
   "metadata": {},
   "outputs": [],
   "source": [
    "my_gen = generator()"
   ]
  },
  {
   "cell_type": "code",
   "execution_count": 91,
   "metadata": {},
   "outputs": [
    {
     "data": {
      "text/html": [
       "<div>\n",
       "<style scoped>\n",
       "    .dataframe tbody tr th:only-of-type {\n",
       "        vertical-align: middle;\n",
       "    }\n",
       "\n",
       "    .dataframe tbody tr th {\n",
       "        vertical-align: top;\n",
       "    }\n",
       "\n",
       "    .dataframe thead th {\n",
       "        text-align: right;\n",
       "    }\n",
       "</style>\n",
       "<table border=\"1\" class=\"dataframe\">\n",
       "  <thead>\n",
       "    <tr style=\"text-align: right;\">\n",
       "      <th></th>\n",
       "      <th>tag</th>\n",
       "      <th>days_since_published</th>\n",
       "      <th>font</th>\n",
       "      <th>word_count</th>\n",
       "    </tr>\n",
       "  </thead>\n",
       "  <tbody>\n",
       "    <tr>\n",
       "      <th>0</th>\n",
       "      <td>Tech</td>\n",
       "      <td>71</td>\n",
       "      <td>Youtube</td>\n",
       "      <td>150</td>\n",
       "    </tr>\n",
       "  </tbody>\n",
       "</table>\n",
       "</div>"
      ],
      "text/plain": [
       "    tag  days_since_published     font  word_count\n",
       "0  Tech                    71  Youtube         150"
      ]
     },
     "execution_count": 91,
     "metadata": {},
     "output_type": "execute_result"
    }
   ],
   "source": [
    "m_line = my_gen.gen_line(tag='Tech', max_publication_days=150, min_publication_days=0,font='Youtube',word_max=200, word_min=150,opinion='Read')\n",
    "m_line"
   ]
  },
  {
   "cell_type": "code",
   "execution_count": 86,
   "metadata": {},
   "outputs": [
    {
     "data": {
      "text/html": [
       "<div>\n",
       "<style scoped>\n",
       "    .dataframe tbody tr th:only-of-type {\n",
       "        vertical-align: middle;\n",
       "    }\n",
       "\n",
       "    .dataframe tbody tr th {\n",
       "        vertical-align: top;\n",
       "    }\n",
       "\n",
       "    .dataframe thead th {\n",
       "        text-align: right;\n",
       "    }\n",
       "</style>\n",
       "<table border=\"1\" class=\"dataframe\">\n",
       "  <thead>\n",
       "    <tr style=\"text-align: right;\">\n",
       "      <th></th>\n",
       "      <th>tag</th>\n",
       "      <th>days_since_published</th>\n",
       "      <th>font</th>\n",
       "      <th>word_count</th>\n",
       "    </tr>\n",
       "  </thead>\n",
       "  <tbody>\n",
       "    <tr>\n",
       "      <th>0</th>\n",
       "      <td>DC</td>\n",
       "      <td>701</td>\n",
       "      <td>Twitter</td>\n",
       "      <td>200</td>\n",
       "    </tr>\n",
       "  </tbody>\n",
       "</table>\n",
       "</div>"
      ],
      "text/plain": [
       "  tag  days_since_published     font  word_count\n",
       "0  DC                   701  Twitter         200"
      ]
     },
     "execution_count": 86,
     "metadata": {},
     "output_type": "execute_result"
    }
   ],
   "source": [
    "my_line = my_gen.gen_line()\n",
    "my_line"
   ]
  },
  {
   "cell_type": "code",
   "execution_count": 71,
   "metadata": {},
   "outputs": [
    {
     "data": {
      "text/plain": [
       "[    tag  days_since_published     font  word_count\n",
       " 0  tech                    53  Youtube         150,\n",
       "   tag  days_since_published       font  word_count\n",
       " 0  DC                   246  Instagram         800]"
      ]
     },
     "execution_count": 71,
     "metadata": {},
     "output_type": "execute_result"
    }
   ],
   "source": [
    "df_list = [m_line, my_line]\n",
    "df_list"
   ]
  },
  {
   "cell_type": "code",
   "execution_count": 75,
   "metadata": {},
   "outputs": [
    {
     "data": {
      "text/html": [
       "<div>\n",
       "<style scoped>\n",
       "    .dataframe tbody tr th:only-of-type {\n",
       "        vertical-align: middle;\n",
       "    }\n",
       "\n",
       "    .dataframe tbody tr th {\n",
       "        vertical-align: top;\n",
       "    }\n",
       "\n",
       "    .dataframe thead th {\n",
       "        text-align: right;\n",
       "    }\n",
       "</style>\n",
       "<table border=\"1\" class=\"dataframe\">\n",
       "  <thead>\n",
       "    <tr style=\"text-align: right;\">\n",
       "      <th></th>\n",
       "      <th>tag</th>\n",
       "      <th>days_since_published</th>\n",
       "      <th>font</th>\n",
       "      <th>word_count</th>\n",
       "    </tr>\n",
       "  </thead>\n",
       "  <tbody>\n",
       "    <tr>\n",
       "      <th>0</th>\n",
       "      <td>tech</td>\n",
       "      <td>53</td>\n",
       "      <td>Youtube</td>\n",
       "      <td>150</td>\n",
       "    </tr>\n",
       "    <tr>\n",
       "      <th>1</th>\n",
       "      <td>DC</td>\n",
       "      <td>246</td>\n",
       "      <td>Instagram</td>\n",
       "      <td>800</td>\n",
       "    </tr>\n",
       "  </tbody>\n",
       "</table>\n",
       "</div>"
      ],
      "text/plain": [
       "    tag  days_since_published       font  word_count\n",
       "0  tech                    53    Youtube         150\n",
       "1    DC                   246  Instagram         800"
      ]
     },
     "execution_count": 75,
     "metadata": {},
     "output_type": "execute_result"
    }
   ],
   "source": [
    "d = m_line\n",
    "for frame in df_list:\n",
    "    d"
   ]
  },
  {
   "cell_type": "code",
   "execution_count": 92,
   "metadata": {
    "scrolled": false
   },
   "outputs": [],
   "source": [
    "df = my_gen.gen_tendency_lines(tag='Tech')"
   ]
  },
  {
   "cell_type": "code",
   "execution_count": 93,
   "metadata": {},
   "outputs": [
    {
     "data": {
      "text/html": [
       "<div>\n",
       "<style scoped>\n",
       "    .dataframe tbody tr th:only-of-type {\n",
       "        vertical-align: middle;\n",
       "    }\n",
       "\n",
       "    .dataframe tbody tr th {\n",
       "        vertical-align: top;\n",
       "    }\n",
       "\n",
       "    .dataframe thead th {\n",
       "        text-align: right;\n",
       "    }\n",
       "</style>\n",
       "<table border=\"1\" class=\"dataframe\">\n",
       "  <thead>\n",
       "    <tr style=\"text-align: right;\">\n",
       "      <th></th>\n",
       "      <th>id</th>\n",
       "      <th>tag</th>\n",
       "      <th>days_since_published</th>\n",
       "      <th>font</th>\n",
       "      <th>word_count</th>\n",
       "    </tr>\n",
       "  </thead>\n",
       "  <tbody>\n",
       "    <tr>\n",
       "      <th>0</th>\n",
       "      <td>1</td>\n",
       "      <td>Tech</td>\n",
       "      <td>1</td>\n",
       "      <td>Instagram</td>\n",
       "      <td>450</td>\n",
       "    </tr>\n",
       "    <tr>\n",
       "      <th>1</th>\n",
       "      <td>2</td>\n",
       "      <td>Tech</td>\n",
       "      <td>546</td>\n",
       "      <td>Instagram</td>\n",
       "      <td>100</td>\n",
       "    </tr>\n",
       "    <tr>\n",
       "      <th>2</th>\n",
       "      <td>3</td>\n",
       "      <td>Tech</td>\n",
       "      <td>695</td>\n",
       "      <td>Youtube</td>\n",
       "      <td>850</td>\n",
       "    </tr>\n",
       "    <tr>\n",
       "      <th>3</th>\n",
       "      <td>4</td>\n",
       "      <td>Tech</td>\n",
       "      <td>723</td>\n",
       "      <td>Youtube</td>\n",
       "      <td>200</td>\n",
       "    </tr>\n",
       "    <tr>\n",
       "      <th>4</th>\n",
       "      <td>5</td>\n",
       "      <td>Tech</td>\n",
       "      <td>552</td>\n",
       "      <td>Youtube</td>\n",
       "      <td>850</td>\n",
       "    </tr>\n",
       "    <tr>\n",
       "      <th>...</th>\n",
       "      <td>...</td>\n",
       "      <td>...</td>\n",
       "      <td>...</td>\n",
       "      <td>...</td>\n",
       "      <td>...</td>\n",
       "    </tr>\n",
       "    <tr>\n",
       "      <th>4195</th>\n",
       "      <td>4196</td>\n",
       "      <td>Tech</td>\n",
       "      <td>654</td>\n",
       "      <td>BBC</td>\n",
       "      <td>400</td>\n",
       "    </tr>\n",
       "    <tr>\n",
       "      <th>4196</th>\n",
       "      <td>4197</td>\n",
       "      <td>Marvel</td>\n",
       "      <td>638</td>\n",
       "      <td>G1</td>\n",
       "      <td>650</td>\n",
       "    </tr>\n",
       "    <tr>\n",
       "      <th>4197</th>\n",
       "      <td>4198</td>\n",
       "      <td>Crypto</td>\n",
       "      <td>248</td>\n",
       "      <td>Twitter</td>\n",
       "      <td>600</td>\n",
       "    </tr>\n",
       "    <tr>\n",
       "      <th>4198</th>\n",
       "      <td>4199</td>\n",
       "      <td>Netflix</td>\n",
       "      <td>557</td>\n",
       "      <td>Google</td>\n",
       "      <td>900</td>\n",
       "    </tr>\n",
       "    <tr>\n",
       "      <th>4199</th>\n",
       "      <td>4200</td>\n",
       "      <td>Games</td>\n",
       "      <td>399</td>\n",
       "      <td>BBC</td>\n",
       "      <td>700</td>\n",
       "    </tr>\n",
       "  </tbody>\n",
       "</table>\n",
       "<p>4200 rows × 5 columns</p>\n",
       "</div>"
      ],
      "text/plain": [
       "        id      tag  days_since_published       font  word_count\n",
       "0        1     Tech                     1  Instagram         450\n",
       "1        2     Tech                   546  Instagram         100\n",
       "2        3     Tech                   695    Youtube         850\n",
       "3        4     Tech                   723    Youtube         200\n",
       "4        5     Tech                   552    Youtube         850\n",
       "...    ...      ...                   ...        ...         ...\n",
       "4195  4196     Tech                   654        BBC         400\n",
       "4196  4197   Marvel                   638         G1         650\n",
       "4197  4198   Crypto                   248    Twitter         600\n",
       "4198  4199  Netflix                   557     Google         900\n",
       "4199  4200    Games                   399        BBC         700\n",
       "\n",
       "[4200 rows x 5 columns]"
      ]
     },
     "execution_count": 93,
     "metadata": {},
     "output_type": "execute_result"
    }
   ],
   "source": [
    "df"
   ]
  },
  {
   "cell_type": "code",
   "execution_count": 94,
   "metadata": {},
   "outputs": [],
   "source": [
    "df.to_csv('saitama.csv')"
   ]
  },
  {
   "cell_type": "code",
   "execution_count": null,
   "metadata": {},
   "outputs": [],
   "source": []
  }
 ],
 "metadata": {
  "kernelspec": {
   "display_name": "Python 3",
   "language": "python",
   "name": "python3"
  },
  "language_info": {
   "codemirror_mode": {
    "name": "ipython",
    "version": 3
   },
   "file_extension": ".py",
   "mimetype": "text/x-python",
   "name": "python",
   "nbconvert_exporter": "python",
   "pygments_lexer": "ipython3",
   "version": "3.8.5"
  }
 },
 "nbformat": 4,
 "nbformat_minor": 4
}
