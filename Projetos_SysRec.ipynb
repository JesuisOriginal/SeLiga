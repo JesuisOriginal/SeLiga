{
 "cells": [
  {
   "cell_type": "code",
   "execution_count": 1,
   "metadata": {},
   "outputs": [],
   "source": [
    "import pandas as pd\n",
    "from sklearn.feature_extraction.text import TfidfVectorizer\n",
    "from sklearn.metrics.pairwise import linear_kernel "
   ]
  },
  {
   "cell_type": "code",
   "execution_count": 15,
   "metadata": {},
   "outputs": [],
   "source": [
    "df = pd.read_csv(\"news_dataset.csv\")"
   ]
  },
  {
   "cell_type": "code",
   "execution_count": 16,
   "metadata": {},
   "outputs": [
    {
     "data": {
      "text/html": [
       "<div>\n",
       "<style scoped>\n",
       "    .dataframe tbody tr th:only-of-type {\n",
       "        vertical-align: middle;\n",
       "    }\n",
       "\n",
       "    .dataframe tbody tr th {\n",
       "        vertical-align: top;\n",
       "    }\n",
       "\n",
       "    .dataframe thead th {\n",
       "        text-align: right;\n",
       "    }\n",
       "</style>\n",
       "<table border=\"1\" class=\"dataframe\">\n",
       "  <thead>\n",
       "    <tr style=\"text-align: right;\">\n",
       "      <th></th>\n",
       "      <th>id</th>\n",
       "      <th>headline</th>\n",
       "    </tr>\n",
       "  </thead>\n",
       "  <tbody>\n",
       "    <tr>\n",
       "      <th>0</th>\n",
       "      <td>1</td>\n",
       "      <td>TECH FINANCES GAMES CRYPTO GPU CPU MOVIES MARV...</td>\n",
       "    </tr>\n",
       "    <tr>\n",
       "      <th>1</th>\n",
       "      <td>2</td>\n",
       "      <td>10 Tips That Will Make You Influential In TECH...</td>\n",
       "    </tr>\n",
       "    <tr>\n",
       "      <th>2</th>\n",
       "      <td>3</td>\n",
       "      <td>How To Get (A) Fabulous TECH FINANCES GAMES CR...</td>\n",
       "    </tr>\n",
       "    <tr>\n",
       "      <th>3</th>\n",
       "      <td>4</td>\n",
       "      <td>Here Is A Quick Cure For TECH FINANCES GAMES C...</td>\n",
       "    </tr>\n",
       "    <tr>\n",
       "      <th>4</th>\n",
       "      <td>5</td>\n",
       "      <td>Secrets To TECH FINANCES GAMES CRYPTO GPU CPU ...</td>\n",
       "    </tr>\n",
       "    <tr>\n",
       "      <th>...</th>\n",
       "      <td>...</td>\n",
       "      <td>...</td>\n",
       "    </tr>\n",
       "    <tr>\n",
       "      <th>595</th>\n",
       "      <td>596</td>\n",
       "      <td>The Most (and Least) Effective Ideas In TECH F...</td>\n",
       "    </tr>\n",
       "    <tr>\n",
       "      <th>596</th>\n",
       "      <td>597</td>\n",
       "      <td>8 Ways To TECH FINANCES GAMES CRYPTO GPU CPU M...</td>\n",
       "    </tr>\n",
       "    <tr>\n",
       "      <th>597</th>\n",
       "      <td>598</td>\n",
       "      <td>When Professionals Run Into Problems With TECH...</td>\n",
       "    </tr>\n",
       "    <tr>\n",
       "      <th>598</th>\n",
       "      <td>599</td>\n",
       "      <td>Why It's Easier To Fail With TECH FINANCES GAM...</td>\n",
       "    </tr>\n",
       "    <tr>\n",
       "      <th>599</th>\n",
       "      <td>600</td>\n",
       "      <td>Here Are 7 Ways To Better TECH FINANCES GAMES ...</td>\n",
       "    </tr>\n",
       "  </tbody>\n",
       "</table>\n",
       "<p>600 rows × 2 columns</p>\n",
       "</div>"
      ],
      "text/plain": [
       "      id                                           headline\n",
       "0      1  TECH FINANCES GAMES CRYPTO GPU CPU MOVIES MARV...\n",
       "1      2  10 Tips That Will Make You Influential In TECH...\n",
       "2      3  How To Get (A) Fabulous TECH FINANCES GAMES CR...\n",
       "3      4  Here Is A Quick Cure For TECH FINANCES GAMES C...\n",
       "4      5  Secrets To TECH FINANCES GAMES CRYPTO GPU CPU ...\n",
       "..   ...                                                ...\n",
       "595  596  The Most (and Least) Effective Ideas In TECH F...\n",
       "596  597  8 Ways To TECH FINANCES GAMES CRYPTO GPU CPU M...\n",
       "597  598  When Professionals Run Into Problems With TECH...\n",
       "598  599  Why It's Easier To Fail With TECH FINANCES GAM...\n",
       "599  600  Here Are 7 Ways To Better TECH FINANCES GAMES ...\n",
       "\n",
       "[600 rows x 2 columns]"
      ]
     },
     "execution_count": 16,
     "metadata": {},
     "output_type": "execute_result"
    }
   ],
   "source": [
    "df"
   ]
  },
  {
   "cell_type": "markdown",
   "metadata": {},
   "source": [
    "# Calcula o peso de cada palavra usando um TF-IDF (Term Frequency-  Inverse   Document Frequency\n",
    "## Aqui, o tfidf_matrix é a matriz que contém cada palavra e sua pontuação TF-IDF em relação a cada documento, ou headline neste caso"
   ]
  },
  {
   "cell_type": "code",
   "execution_count": 17,
   "metadata": {},
   "outputs": [],
   "source": [
    "tf = TfidfVectorizer(analyzer='word', ngram_range=(1, 3), min_df=0, stop_words='english')"
   ]
  },
  {
   "cell_type": "code",
   "execution_count": 19,
   "metadata": {},
   "outputs": [],
   "source": [
    "tfidf_matrix = tf.fit_transform(df['headline'])  #  modelo"
   ]
  },
  {
   "attachments": {
    "image.png": {
     "image/png": "[encoded data removed]"
    }
   },
   "cell_type": "markdown",
   "metadata": {},
   "source": [
    "![image.png](attachment:image.png)\n",
    "###  O método de cálculo de gostos / desgostos do leitor é calculado tomando o cosseno do ângulo entre o vetor do perfil do usuário  e o vetor do documento; Nesse caso comoo é um dataset, é o ângulo entre dois vetores de documento. Usamos o cosseno porque o valor dele aumentará conforme o ângulo entre os vetores diminui, o que significa mais semelhança  e mais chance  do  usuario achar  atraente."
   ]
  },
  {
   "cell_type": "code",
   "execution_count": 21,
   "metadata": {},
   "outputs": [],
   "source": [
    "cosine_similarities = linear_kernel(tfidf_matrix, tfidf_matrix)\n",
    "results = {}\n",
    "for idx, row in df.iterrows():\n",
    "   similar_indices = cosine_similarities[idx].argsort()[:-100:-1] \n",
    "   similar_items = [(cosine_similarities[idx][i], df['id'][i]) for i in similar_indices] \n",
    "   results[row['id']] = similar_items[1:]"
   ]
  },
  {
   "cell_type": "code",
   "execution_count": 22,
   "metadata": {},
   "outputs": [],
   "source": [
    "def item(id):  \n",
    "  return df.loc[df['id'] == id]['headline'].tolist()[0]"
   ]
  },
  {
   "cell_type": "code",
   "execution_count": 23,
   "metadata": {},
   "outputs": [],
   "source": [
    "def recommend(item_id, num):\n",
    "    print(\"Recommending \" + str(num) + \" products similar to \" + item(item_id) + \"...\")   \n",
    "    print(\"-------\")\n",
    "    recs = results[item_id][:num]   \n",
    "    for rec in recs: \n",
    "       print(\"Recommended: \" + item(rec[1]) + \" (score:\" +      str(rec[0]) + \")\")"
   ]
  },
  {
   "cell_type": "code",
   "execution_count": 29,
   "metadata": {},
   "outputs": [
    {
     "data": {
      "text/plain": [
       "\"Why It's Easier To Fail With TECH FINANCES GAMES CRYPTO GPU CPU MOVIES MARVEL Than You Might Think\""
      ]
     },
     "execution_count": 29,
     "metadata": {},
     "output_type": "execute_result"
    }
   ],
   "source": [
    "item(599)"
   ]
  },
  {
   "cell_type": "code",
   "execution_count": 28,
   "metadata": {},
   "outputs": [
    {
     "name": "stdout",
     "output_type": "stream",
     "text": [
      "Recommending 2 products similar to Why It's Easier To Fail With TECH FINANCES GAMES CRYPTO GPU CPU MOVIES MARVEL Than You Might Think...\n",
      "-------\n",
      "Recommended: Why Most TECH FINANCES GAMES CRYPTO GPU CPU MOVIES MARVEL Fail (score:0.24735108329570477)\n",
      "Recommended: TECH FINANCES GAMES CRYPTO GPU CPU MOVIES MARVEL - Not For Everyone (score:0.22926397367920895)\n"
     ]
    }
   ],
   "source": [
    "recommend(599, 2)"
   ]
  }
 ],
 "metadata": {
  "kernelspec": {
   "display_name": "Python 3",
   "language": "python",
   "name": "python3"
  },
  "language_info": {
   "codemirror_mode": {
    "name": "ipython",
    "version": 3
   },
   "file_extension": ".py",
   "mimetype": "text/x-python",
   "name": "python",
   "nbconvert_exporter": "python",
   "pygments_lexer": "ipython3",
   "version": "3.8.5"
  }
 },
 "nbformat": 4,
 "nbformat_minor": 4
}
